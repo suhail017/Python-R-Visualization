{
 "cells": [
  {
   "cell_type": "code",
   "execution_count": null,
   "metadata": {},
   "outputs": [],
   "source": [
    "%matplotlib inline\n",
    "import numpy as np\n",
    "import matplotlib.pyplot as plt\n",
    "from mpl_toolkits.basemap import Basemap"
   ]
  },
  {
   "cell_type": "code",
   "execution_count": null,
   "metadata": {},
   "outputs": [],
   "source": [
    "plt.figure(figsize=(8, 8))\n",
    "m = Basemap(projection='ortho', resolution=None, lat_0=50, lon_0=-100)\n",
    "m.bluemarble(scale=0.5);"
   ]
  },
  {
   "cell_type": "code",
   "execution_count": null,
   "metadata": {},
   "outputs": [],
   "source": [
    "fig = plt.figure(figsize=(8, 8))\n",
    "m = Basemap(projection='lcc', resolution=None,\n",
    "            width=8E6, height=8E6, \n",
    "            lat_0=45, lon_0=-100,)\n",
    "m.etopo(scale=0.5, alpha=0.5)\n",
    "\n",
    "# Map (long, lat) to (x, y) for plotting\n",
    "x, y = m(-76.6413, 39.0458)\n",
    "plt.plot(x, y, 'ok', markersize=5)\n",
    "plt.text(x, y, ' Maryland', fontsize=12);"
   ]
  },
  {
   "cell_type": "code",
   "execution_count": null,
   "metadata": {},
   "outputs": [],
   "source": [
    "from netCDF4 import Dataset\n",
    "import matplotlib.pyplot as plt\n",
    "from matplotlib.cm import get_cmap\n",
    "from mpl_toolkits.basemap import Basemap\n",
    "\n",
    "from wrf import to_np, getvar, smooth2d, get_basemap, latlon_coords\n",
    "\n",
    "# Open the NetCDF file\n",
    "ncfile = Dataset(\"wrfout_d01_2016-10-07_00_00_00\")\n",
    "\n",
    "# Get the sea level pressure\n",
    "slp = getvar(ncfile, \"slp\")\n",
    "\n",
    "# Smooth the sea level pressure since it tends to be noisy near the\n",
    "# mountains\n",
    "smooth_slp = smooth2d(slp, 3, cenweight=4)\n",
    "\n",
    "# Get the latitude and longitude points\n",
    "lats, lons = latlon_coords(slp)\n",
    "\n",
    "# Get the basemap object\n",
    "bm = get_basemap(slp)\n",
    "\n",
    "# Create a figure\n",
    "fig = plt.figure(figsize=(12,9))\n",
    "\n",
    "# Add geographic outlines\n",
    "bm.drawcoastlines(linewidth=0.25)\n",
    "bm.drawstates(linewidth=0.25)\n",
    "bm.drawcountries(linewidth=0.25)\n",
    "\n",
    "# Convert the lats and lons to x and y.  Make sure you convert the lats and\n",
    "# lons to numpy arrays via to_np, or basemap crashes with an undefined\n",
    "# RuntimeError.\n",
    "x, y = bm(to_np(lons), to_np(lats))\n",
    "\n",
    "# Draw the contours and filled contours\n",
    "bm.contour(x, y, to_np(smooth_slp), 10, colors=\"black\")\n",
    "bm.contourf(x, y, to_np(smooth_slp), 10, cmap=get_cmap(\"jet\"))\n",
    "\n",
    "# Add a color bar\n",
    "plt.colorbar(shrink=.62)\n",
    "\n",
    "plt.title(\"Sea Level Pressure (hPa)\")\n",
    "\n",
    "plt.show()"
   ]
  },
  {
   "cell_type": "code",
   "execution_count": null,
   "metadata": {},
   "outputs": [],
   "source": [
    "conda install -c conda-forge wrf-python"
   ]
  }
 ],
 "metadata": {
  "kernelspec": {
   "display_name": "Python 3",
   "language": "python",
   "name": "python3"
  },
  "language_info": {
   "codemirror_mode": {
    "name": "ipython",
    "version": 3
   },
   "file_extension": ".py",
   "mimetype": "text/x-python",
   "name": "python",
   "nbconvert_exporter": "python",
   "pygments_lexer": "ipython3",
   "version": "3.8.3"
  }
 },
 "nbformat": 4,
 "nbformat_minor": 4
}
